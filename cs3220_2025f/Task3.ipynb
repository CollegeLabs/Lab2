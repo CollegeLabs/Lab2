{
 "cells": [
  {
   "cell_type": "code",
   "execution_count": 2,
   "id": "7687591e",
   "metadata": {},
   "outputs": [],
   "source": [
    "from src.locations import *\n",
    "from src.CompanyEnvironmentClass import CompanyEnvironment\n",
    "from src.Task3YourClasses import Student, ITStaff, OfficeManager\n",
    "from src.agents import ReflexAgentA2pro"
   ]
  },
  {
   "cell_type": "code",
   "execution_count": 3,
   "id": "f72670b2",
   "metadata": {},
   "outputs": [
    {
     "data": {
      "text/plain": [
       "((0, 0), (1, 0), (1, 0), (1, 1))"
      ]
     },
     "execution_count": 3,
     "metadata": {},
     "output_type": "execute_result"
    }
   ],
   "source": [
    "locations=loc_A, loc_B, loc_C, loc_D\n",
    "locations"
   ]
  },
  {
   "cell_type": "code",
   "execution_count": 4,
   "id": "e89aeda8",
   "metadata": {},
   "outputs": [],
   "source": [
    "ce=CompanyEnvironment()"
   ]
  },
  {
   "cell_type": "code",
   "execution_count": 5,
   "id": "7f8f7b0d",
   "metadata": {},
   "outputs": [],
   "source": [
    "s=Student()\n",
    "i=ITStaff()\n",
    "o=OfficeManager()"
   ]
  },
  {
   "cell_type": "code",
   "execution_count": 6,
   "id": "20e5b627",
   "metadata": {},
   "outputs": [
    {
     "name": "stdout",
     "output_type": "stream",
     "text": [
      "The item is starting in random location...\n",
      "The item is starting in random location...\n",
      "The item is starting in random location...\n"
     ]
    }
   ],
   "source": [
    "ce.add_thing(s)\n",
    "#print(\"IT is located at {}.\".format(i.location))\n",
    "\n",
    "ce.add_thing(i)\n",
    "#print(\"Student is located at {}.\".format(s.location))\n",
    "\n",
    "ce.add_thing(o)\n",
    "#print(\"OfficeManager is located at {}.\".format(o.location))"
   ]
  },
  {
   "cell_type": "code",
   "execution_count": 7,
   "id": "2ad15bd2",
   "metadata": {},
   "outputs": [
    {
     "data": {
      "text/plain": [
       "[<Student>, <ITStaff>, <OfficeManager>]"
      ]
     },
     "execution_count": 7,
     "metadata": {},
     "output_type": "execute_result"
    }
   ],
   "source": [
    "ce.things"
   ]
  },
  {
   "cell_type": "code",
   "execution_count": 8,
   "id": "b459998c",
   "metadata": {},
   "outputs": [
    {
     "ename": "TypeError",
     "evalue": "ReflexAgentA2pro() takes 0 positional arguments but 3 were given",
     "output_type": "error",
     "traceback": [
      "\u001b[31m---------------------------------------------------------------------------\u001b[39m",
      "\u001b[31mTypeError\u001b[39m                                 Traceback (most recent call last)",
      "\u001b[36mCell\u001b[39m\u001b[36m \u001b[39m\u001b[32mIn[8]\u001b[39m\u001b[32m, line 1\u001b[39m\n\u001b[32m----> \u001b[39m\u001b[32m1\u001b[39m raTask3pro1=\u001b[43mReflexAgentA2pro\u001b[49m\u001b[43m(\u001b[49m\u001b[43m)\u001b[49m\n",
      "\u001b[36mFile \u001b[39m\u001b[32mc:\\Users\\conno_52qz545\\CS3220 Lab2\\Lab2\\cs3220_2025f\\src\\agents.py:26\u001b[39m, in \u001b[36mReflexAgentA2pro\u001b[39m\u001b[34m()\u001b[39m\n\u001b[32m     25\u001b[39m \u001b[38;5;28;01mdef\u001b[39;00m\u001b[38;5;250m \u001b[39m\u001b[34mReflexAgentA2pro\u001b[39m():\n\u001b[32m---> \u001b[39m\u001b[32m26\u001b[39m     \u001b[38;5;28;01mreturn\u001b[39;00m Agent(\u001b[43mReflexAgentA2pro\u001b[49m\u001b[43m(\u001b[49m\u001b[43ma2proRules\u001b[49m\u001b[43m,\u001b[49m\u001b[43minterpret_input\u001b[49m\u001b[43m,\u001b[49m\u001b[43mrule_match\u001b[49m\u001b[43m)\u001b[49m)\n",
      "\u001b[31mTypeError\u001b[39m: ReflexAgentA2pro() takes 0 positional arguments but 3 were given"
     ]
    }
   ],
   "source": [
    "raTask3pro1=ReflexAgentA2pro()"
   ]
  },
  {
   "cell_type": "code",
   "execution_count": 9,
   "id": "0fefa248",
   "metadata": {},
   "outputs": [
    {
     "ename": "NameError",
     "evalue": "name 'raTask3pro1' is not defined",
     "output_type": "error",
     "traceback": [
      "\u001b[31m---------------------------------------------------------------------------\u001b[39m",
      "\u001b[31mNameError\u001b[39m                                 Traceback (most recent call last)",
      "\u001b[36mCell\u001b[39m\u001b[36m \u001b[39m\u001b[32mIn[9]\u001b[39m\u001b[32m, line 1\u001b[39m\n\u001b[32m----> \u001b[39m\u001b[32m1\u001b[39m ce.add_thing(\u001b[43mraTask3pro1\u001b[49m)\n",
      "\u001b[31mNameError\u001b[39m: name 'raTask3pro1' is not defined"
     ]
    }
   ],
   "source": [
    "ce.add_thing(raTask3pro1)"
   ]
  },
  {
   "cell_type": "code",
   "execution_count": 10,
   "id": "50243cf4",
   "metadata": {},
   "outputs": [
    {
     "name": "stdout",
     "output_type": "stream",
     "text": [
      "State of the Office Environment: [(0, 0), (1, 0), (1, 0), (1, 1)].\n"
     ]
    }
   ],
   "source": [
    "print(\"State of the Office Environment: {}.\".format(ce.locations))\n",
    "#print(\"Agent is located at {}.\".format(raTask3pro1.location))"
   ]
  }
 ],
 "metadata": {
  "kernelspec": {
   "display_name": ".venv (3.13.7)",
   "language": "python",
   "name": "python3"
  },
  "language_info": {
   "codemirror_mode": {
    "name": "ipython",
    "version": 3
   },
   "file_extension": ".py",
   "mimetype": "text/x-python",
   "name": "python",
   "nbconvert_exporter": "python",
   "pygments_lexer": "ipython3",
   "version": "3.13.7"
  }
 },
 "nbformat": 4,
 "nbformat_minor": 5
}
