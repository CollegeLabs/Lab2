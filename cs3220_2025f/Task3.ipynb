{
 "cells": [
  {
   "cell_type": "code",
   "execution_count": 34,
   "id": "7687591e",
   "metadata": {},
   "outputs": [],
   "source": [
    "from src.locations import *\n",
    "from src.CompanyEnvironmentClass import CompanyEnvironment\n",
    "from src.Task3YourClasses import Student, ITStaff, OfficeManager\n",
    "from src.agents import ReflexAgentA2pro"
   ]
  },
  {
   "cell_type": "code",
   "execution_count": 35,
   "id": "f72670b2",
   "metadata": {},
   "outputs": [
    {
     "data": {
      "text/plain": [
       "((0, 0), (1, 0), (2, 0), (3, 0))"
      ]
     },
     "execution_count": 35,
     "metadata": {},
     "output_type": "execute_result"
    }
   ],
   "source": [
    "locations=loc_A, loc_B, loc_C, loc_D\n",
    "locations"
   ]
  },
  {
   "cell_type": "code",
   "execution_count": 36,
   "id": "e89aeda8",
   "metadata": {},
   "outputs": [],
   "source": [
    "ce=CompanyEnvironment()"
   ]
  },
  {
   "cell_type": "code",
   "execution_count": 37,
   "id": "7f8f7b0d",
   "metadata": {},
   "outputs": [],
   "source": [
    "s=Student()\n",
    "i=ITStaff()\n",
    "o=OfficeManager()"
   ]
  },
  {
   "cell_type": "code",
   "execution_count": 38,
   "id": "20e5b627",
   "metadata": {},
   "outputs": [
    {
     "name": "stdout",
     "output_type": "stream",
     "text": [
      "The item is starting in random location...\n",
      "IT is located at (1, 0).\n",
      "The item is starting in random location...\n",
      "Student is located at (3, 0).\n",
      "The item is starting in random location...\n",
      "OfficeManager is located at (1, 0).\n"
     ]
    }
   ],
   "source": [
    "ce.add_thing(i)\n",
    "print(\"IT is located at {}.\".format(i.location))\n",
    "\n",
    "ce.add_thing(s)\n",
    "print(\"Student is located at {}.\".format(s.location))\n",
    "\n",
    "ce.add_thing(o)\n",
    "print(\"OfficeManager is located at {}.\".format(o.location))"
   ]
  },
  {
   "cell_type": "code",
   "execution_count": 39,
   "id": "2ad15bd2",
   "metadata": {},
   "outputs": [
    {
     "data": {
      "text/plain": [
       "[<ITStaff>, <Student>, <OfficeManager>]"
      ]
     },
     "execution_count": 39,
     "metadata": {},
     "output_type": "execute_result"
    }
   ],
   "source": [
    "ce.things"
   ]
  },
  {
   "cell_type": "code",
   "execution_count": 40,
   "id": "b459998c",
   "metadata": {},
   "outputs": [],
   "source": [
    "raTask3pro1=ReflexAgentA2pro()"
   ]
  },
  {
   "cell_type": "code",
   "execution_count": 41,
   "id": "0fefa248",
   "metadata": {},
   "outputs": [
    {
     "name": "stdout",
     "output_type": "stream",
     "text": [
      "Welcome!\n",
      "The item is starting in random location...\n"
     ]
    }
   ],
   "source": [
    "ce.add_thing(raTask3pro1)"
   ]
  },
  {
   "cell_type": "code",
   "execution_count": 42,
   "id": "50243cf4",
   "metadata": {},
   "outputs": [
    {
     "name": "stdout",
     "output_type": "stream",
     "text": [
      "State of the Office Environment: [(0, 0), (1, 0), (2, 0), (3, 0)].\n",
      "Agent is located at (0, 0).\n"
     ]
    }
   ],
   "source": [
    "print(\"State of the Office Environment: {}.\".format(ce.locations))\n",
    "print(\"Agent is located at {}.\".format(raTask3pro1.location))"
   ]
  },
  {
   "cell_type": "code",
   "execution_count": 43,
   "id": "77ceac16",
   "metadata": {},
   "outputs": [],
   "source": [
    "#ce.step()"
   ]
  },
  {
   "cell_type": "code",
   "execution_count": 44,
   "id": "0945d958",
   "metadata": {},
   "outputs": [
    {
     "name": "stdout",
     "output_type": "stream",
     "text": [
      "step 1:\n",
      "Clear\n",
      "Agent percepted ((0, 0), []).\n",
      "Agent decided to do Go ahead.\n",
      "The Agent decided to Go ahead at location: (1, 0)\n",
      "step 2:\n",
      "Agent percepted ((1, 0), [<ITStaff>, <OfficeManager>]).\n",
      "Agent decided to do Give donuts.\n",
      "The Agent decided to Give donuts to <ITStaff> at location: (1, 0)\n",
      "step 3:\n",
      "Agent percepted ((1, 0), [<OfficeManager>]).\n",
      "Agent decided to do Give mail.\n",
      "The Agent decided to Give mail to <OfficeManager> at location: (1, 0)\n",
      "step 4:\n",
      "Clear\n",
      "Agent percepted ((1, 0), []).\n",
      "Agent decided to do Go ahead.\n",
      "The Agent decided to Go ahead at location: (2, 0)\n",
      "step 5:\n",
      "Clear\n",
      "Agent percepted ((2, 0), []).\n",
      "Agent decided to do Go ahead.\n",
      "The Agent decided to Go ahead at location: (3, 0)\n",
      "step 6:\n",
      "Agent percepted ((3, 0), [<Student>]).\n",
      "Agent decided to do Give pizza.\n",
      "The Agent decided to Give pizza to <Student> at location: (3, 0)\n",
      "step 7:\n",
      "Last room\n",
      "Agent percepted ((3, 0), []).\n",
      "Agent decided to do Stop.\n",
      "We can't find a live agent\n"
     ]
    }
   ],
   "source": [
    "ce.run()"
   ]
  }
 ],
 "metadata": {
  "kernelspec": {
   "display_name": ".venv (3.13.7)",
   "language": "python",
   "name": "python3"
  },
  "language_info": {
   "codemirror_mode": {
    "name": "ipython",
    "version": 3
   },
   "file_extension": ".py",
   "mimetype": "text/x-python",
   "name": "python",
   "nbconvert_exporter": "python",
   "pygments_lexer": "ipython3",
   "version": "3.13.7"
  }
 },
 "nbformat": 4,
 "nbformat_minor": 5
}
