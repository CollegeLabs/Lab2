{
 "cells": [
  {
   "cell_type": "code",
   "execution_count": null,
   "id": "2a278617",
   "metadata": {},
   "outputs": [
    {
     "ename": "ValueError",
     "evalue": "not enough values to unpack (expected 5, got 2)",
     "output_type": "error",
     "traceback": [
      "\u001b[31m---------------------------------------------------------------------------\u001b[39m",
      "\u001b[31mValueError\u001b[39m                                Traceback (most recent call last)",
      "\u001b[36mCell\u001b[39m\u001b[36m \u001b[39m\u001b[32mIn[1]\u001b[39m\u001b[32m, line 3\u001b[39m\n\u001b[32m      1\u001b[39m \u001b[38;5;28;01mimport\u001b[39;00m\u001b[38;5;250m \u001b[39m\u001b[34;01mrandom\u001b[39;00m\n\u001b[32m      2\u001b[39m \u001b[38;5;28;01mimport\u001b[39;00m\u001b[38;5;250m \u001b[39m\u001b[34;01mcollections\u001b[39;00m\n\u001b[32m----> \u001b[39m\u001b[32m3\u001b[39m \u001b[38;5;28;01mfrom\u001b[39;00m\u001b[38;5;250m \u001b[39m\u001b[34;01msrc\u001b[39;00m\u001b[34;01m.\u001b[39;00m\u001b[34;01mlocations\u001b[39;00m\u001b[38;5;250m \u001b[39m\u001b[38;5;28;01mimport\u001b[39;00m *\n\u001b[32m      4\u001b[39m \u001b[38;5;28;01mfrom\u001b[39;00m\u001b[38;5;250m \u001b[39m\u001b[34;01msrc\u001b[39;00m\u001b[34;01m.\u001b[39;00m\u001b[34;01mthingClass\u001b[39;00m\u001b[38;5;250m \u001b[39m\u001b[38;5;28;01mimport\u001b[39;00m Thing\n\u001b[32m      5\u001b[39m \u001b[38;5;28;01mfrom\u001b[39;00m\u001b[38;5;250m \u001b[39m\u001b[34;01msrc\u001b[39;00m\u001b[34;01m.\u001b[39;00m\u001b[34;01magentClass\u001b[39;00m\u001b[38;5;250m \u001b[39m\u001b[38;5;28;01mimport\u001b[39;00m Agent\n",
      "\u001b[36mFile \u001b[39m\u001b[32mc:\\Users\\conno_52qz545\\CS3220 Lab2\\Lab2\\cs3220_2025f\\src\\locations.py:5\u001b[39m\n\u001b[32m      2\u001b[39m loc_A, loc_B = (\u001b[32m0\u001b[39m, \u001b[32m0\u001b[39m), (\u001b[32m1\u001b[39m, \u001b[32m0\u001b[39m)\n\u001b[32m      4\u001b[39m \u001b[38;5;66;03m#Task 1 Rooms\u001b[39;00m\n\u001b[32m----> \u001b[39m\u001b[32m5\u001b[39m Room1, Room2, Room3, Room4, Room5 = (\u001b[32m0\u001b[39m, \u001b[32m0\u001b[39m)\n\u001b[32m      7\u001b[39m \u001b[38;5;66;03m# for the Task3\u001b[39;00m\n\u001b[32m      8\u001b[39m loc_C, loc_D =(\u001b[32m1\u001b[39m, \u001b[32m0\u001b[39m), (\u001b[32m1\u001b[39m, \u001b[32m1\u001b[39m)\n",
      "\u001b[31mValueError\u001b[39m: not enough values to unpack (expected 5, got 2)"
     ]
    }
   ],
   "source": [
    "import random\n",
    "import collections\n",
    "from src.locations import *\n",
    "from src.thingClass import Thing\n",
    "from src.agentClass import Agent"
   ]
  },
  {
   "cell_type": "code",
   "execution_count": null,
   "id": "788d3322",
   "metadata": {},
   "outputs": [],
   "source": [
    "Chetto=Thing()\n",
    "print(Chetto)\n",
    "print(Chetto.is_alive())\n",
    "print(Chetto.show_state())"
   ]
  },
  {
   "cell_type": "code",
   "execution_count": null,
   "id": "ae4f557c",
   "metadata": {},
   "outputs": [],
   "source": [
    "actionList = ['Move_Right', 'Move_Left', 'Eat', 'Drink', 'Fight']\n",
    "f=RandomAgentProgram(actionList)\n",
    "for i in range(5):\n",
    "    print(f('111'))"
   ]
  }
 ],
 "metadata": {
  "kernelspec": {
   "display_name": ".venv (3.13.7)",
   "language": "python",
   "name": "python3"
  },
  "language_info": {
   "codemirror_mode": {
    "name": "ipython",
    "version": 3
   },
   "file_extension": ".py",
   "mimetype": "text/x-python",
   "name": "python",
   "nbconvert_exporter": "python",
   "pygments_lexer": "ipython3",
   "version": "3.13.7"
  }
 },
 "nbformat": 4,
 "nbformat_minor": 5
}
