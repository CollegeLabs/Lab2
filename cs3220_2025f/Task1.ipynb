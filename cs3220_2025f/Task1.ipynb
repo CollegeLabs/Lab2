{
 "cells": [
  {
   "cell_type": "code",
   "execution_count": 36,
   "id": "2a278617",
   "metadata": {},
   "outputs": [],
   "source": [
    "import random\n",
    "import collections\n",
    "from src.locations import *\n",
    "from src.thingClass import Thing\n",
    "from src.agentClass import Agent\n",
    "from src.agents import *\n",
    "from src.CrazyHouseEnvironment import CrazyHouseEnvironment"
   ]
  },
  {
   "cell_type": "code",
   "execution_count": 37,
   "id": "788d3322",
   "metadata": {},
   "outputs": [
    {
     "name": "stdout",
     "output_type": "stream",
     "text": [
      "<Thing>\n",
      "False\n",
      "I don't know how to show_state.\n",
      "None\n"
     ]
    }
   ],
   "source": [
    "Chetto=Thing()\n",
    "print(Chetto)\n",
    "print(Chetto.is_alive())\n",
    "print(Chetto.show_state())"
   ]
  },
  {
   "cell_type": "code",
   "execution_count": 38,
   "id": "3446af30",
   "metadata": {},
   "outputs": [],
   "source": [
    "def RandomAgentProgram(actions):\n",
    "   return lambda percept: random.choice(actions)"
   ]
  },
  {
   "cell_type": "code",
   "execution_count": 39,
   "id": "ae4f557c",
   "metadata": {},
   "outputs": [
    {
     "name": "stdout",
     "output_type": "stream",
     "text": [
      "Drink\n",
      "Fight\n",
      "Move_Left\n",
      "Drink\n",
      "Move_Right\n"
     ]
    }
   ],
   "source": [
    "actions = ['Move_Right', 'Move_Left', 'Eat', 'Drink', 'Fight']\n",
    "Chetto=RandomAgentProgram(actions)\n",
    "for i in range(5):\n",
    "    print(Chetto('1'))"
   ]
  },
  {
   "cell_type": "code",
   "execution_count": 40,
   "id": "07962bd6",
   "metadata": {},
   "outputs": [
    {
     "name": "stdout",
     "output_type": "stream",
     "text": [
      "state of the House: {(1, 0): 'Milk', (2, 0): 'Milk', (3, 0): 'Dog', (4, 0): 'Rat', (5, 0): 'Rat'}.\n"
     ]
    }
   ],
   "source": [
    "House = CrazyHouseEnvironment()\n",
    "\n",
    "print(\"state of the House: {}.\".format(House.status))"
   ]
  },
  {
   "cell_type": "code",
   "execution_count": 41,
   "id": "d0cb4a6f",
   "metadata": {},
   "outputs": [],
   "source": [
    "Cat=RandomCatAgent()"
   ]
  },
  {
   "cell_type": "code",
   "execution_count": 42,
   "id": "017a8fe3",
   "metadata": {},
   "outputs": [
    {
     "name": "stdout",
     "output_type": "stream",
     "text": [
      "Agent is starting in random location...\n",
      "Cat is located at (4, 0).\n"
     ]
    }
   ],
   "source": [
    "House.add_thing(Cat)\n",
    "print(\"Cat is located at {}.\".format(Cat.location))"
   ]
  },
  {
   "cell_type": "code",
   "execution_count": 43,
   "id": "da8b7fa3",
   "metadata": {},
   "outputs": [
    {
     "name": "stdout",
     "output_type": "stream",
     "text": [
      "State of the House: {(1, 0): 'Milk', (2, 0): 'Milk', (3, 0): 'Dog', (4, 0): 'Rat', (5, 0): 'Rat'}.\n",
      "Cat is located at (4, 0).\n"
     ]
    }
   ],
   "source": [
    "#House.step()\n",
    "\n",
    "print(\"State of the House: {}.\".format(House.status))\n",
    "print(\"Cat is located at {}.\".format(Cat.location))"
   ]
  },
  {
   "cell_type": "code",
   "execution_count": 44,
   "id": "008cf0c9",
   "metadata": {},
   "outputs": [
    {
     "name": "stdout",
     "output_type": "stream",
     "text": [
      "step 1:\n",
      "Agent percepted ((4, 0), 'Rat').\n",
      "Agent decided to do Drink.\n",
      "Agent <Agent> is dead.\n",
      "We can't find a live agent\n"
     ]
    }
   ],
   "source": [
    "House.run()"
   ]
  }
 ],
 "metadata": {
  "kernelspec": {
   "display_name": ".venv (3.13.7)",
   "language": "python",
   "name": "python3"
  },
  "language_info": {
   "codemirror_mode": {
    "name": "ipython",
    "version": 3
   },
   "file_extension": ".py",
   "mimetype": "text/x-python",
   "name": "python",
   "nbconvert_exporter": "python",
   "pygments_lexer": "ipython3",
   "version": "3.13.7"
  }
 },
 "nbformat": 4,
 "nbformat_minor": 5
}
