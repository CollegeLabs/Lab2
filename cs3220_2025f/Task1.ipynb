{
 "cells": [
  {
   "cell_type": "code",
   "execution_count": 10,
   "id": "2a278617",
   "metadata": {},
   "outputs": [],
   "source": [
    "import random\n",
    "import collections\n",
    "from src.locations import *\n",
    "from src.thingClass import Thing\n",
    "from src.agentClass import Agent\n",
    "from src.agents import *\n",
    "from src.CrazyHouseEnvironment import CrazyHouseEnvironment\n",
    "from src.Task3YourClasses import Milk, Mouse, Dog"
   ]
  },
  {
   "cell_type": "code",
   "execution_count": 11,
   "id": "788d3322",
   "metadata": {},
   "outputs": [
    {
     "name": "stdout",
     "output_type": "stream",
     "text": [
      "<Thing>\n",
      "False\n",
      "I don't know how to show_state.\n",
      "None\n"
     ]
    }
   ],
   "source": [
    "Chetto=Thing()\n",
    "print(Chetto)\n",
    "print(Chetto.is_alive())\n",
    "print(Chetto.show_state())"
   ]
  },
  {
   "cell_type": "code",
   "execution_count": 12,
   "id": "3446af30",
   "metadata": {},
   "outputs": [],
   "source": [
    "def RandomAgentProgram(actions):\n",
    "   return lambda percept: random.choice(actions)"
   ]
  },
  {
   "cell_type": "code",
   "execution_count": 13,
   "id": "ae4f557c",
   "metadata": {},
   "outputs": [
    {
     "name": "stdout",
     "output_type": "stream",
     "text": [
      "Fight\n",
      "Eat\n",
      "Drink\n",
      "Drink\n",
      "Eat\n"
     ]
    }
   ],
   "source": [
    "actions = ['Move_Right', 'Move_Left', 'Eat', 'Drink', 'Fight']\n",
    "Chetto=RandomAgentProgram(actions)\n",
    "for i in range(5):\n",
    "    print(Chetto('1'))"
   ]
  },
  {
   "cell_type": "code",
   "execution_count": 14,
   "id": "07962bd6",
   "metadata": {},
   "outputs": [],
   "source": [
    "House = CrazyHouseEnvironment()"
   ]
  },
  {
   "cell_type": "code",
   "execution_count": 15,
   "id": "d0cb4a6f",
   "metadata": {},
   "outputs": [
    {
     "name": "stdout",
     "output_type": "stream",
     "text": [
      "Cat is starting in random location...\n",
      "Cat is starting in random location...\n",
      "Cat is starting in random location...\n"
     ]
    }
   ],
   "source": [
    "Cat=RandomCatAgent()\n",
    "\n",
    "Milk=Milk()\n",
    "Mouse=Mouse()\n",
    "Dog=Dog()\n",
    "\n",
    "House.add_thing(Milk)\n",
    "House.add_thing(Mouse)\n",
    "House.add_thing(Dog)\n"
   ]
  },
  {
   "cell_type": "code",
   "execution_count": 16,
   "id": "017a8fe3",
   "metadata": {},
   "outputs": [
    {
     "name": "stdout",
     "output_type": "stream",
     "text": [
      "Welcome!\n",
      "Cat is starting in random location...\n",
      "Cat is located at room 5.\n"
     ]
    }
   ],
   "source": [
    "House.add_thing(Cat)\n",
    "print(\"Cat is located at {}.\".format(Cat.location))"
   ]
  },
  {
   "cell_type": "code",
   "execution_count": 17,
   "id": "008cf0c9",
   "metadata": {},
   "outputs": [
    {
     "name": "stdout",
     "output_type": "stream",
     "text": [
      "step 1:\n"
     ]
    },
    {
     "ename": "AttributeError",
     "evalue": "'CrazyHouseEnvironment' object has no attribute 'status'",
     "output_type": "error",
     "traceback": [
      "\u001b[31m---------------------------------------------------------------------------\u001b[39m",
      "\u001b[31mAttributeError\u001b[39m                            Traceback (most recent call last)",
      "\u001b[36mCell\u001b[39m\u001b[36m \u001b[39m\u001b[32mIn[17]\u001b[39m\u001b[32m, line 1\u001b[39m\n\u001b[32m----> \u001b[39m\u001b[32m1\u001b[39m \u001b[43mHouse\u001b[49m\u001b[43m.\u001b[49m\u001b[43mrun\u001b[49m\u001b[43m(\u001b[49m\u001b[43m)\u001b[49m\n",
      "\u001b[36mFile \u001b[39m\u001b[32mc:\\Users\\conno_52qz545\\CS3220 Lab2\\Lab2\\cs3220_2025f\\src\\environmentClass.py:59\u001b[39m, in \u001b[36mEnvironment.run\u001b[39m\u001b[34m(self, steps)\u001b[39m\n\u001b[32m     57\u001b[39m     \u001b[38;5;28;01mreturn\u001b[39;00m\n\u001b[32m     58\u001b[39m \u001b[38;5;28mprint\u001b[39m(\u001b[33m\"\u001b[39m\u001b[33mstep \u001b[39m\u001b[38;5;132;01m{0}\u001b[39;00m\u001b[33m:\u001b[39m\u001b[33m\"\u001b[39m.format(step+\u001b[32m1\u001b[39m))\n\u001b[32m---> \u001b[39m\u001b[32m59\u001b[39m \u001b[38;5;28;43mself\u001b[39;49m\u001b[43m.\u001b[49m\u001b[43mstep\u001b[49m\u001b[43m(\u001b[49m\u001b[43m)\u001b[49m\n",
      "\u001b[36mFile \u001b[39m\u001b[32mc:\\Users\\conno_52qz545\\CS3220 Lab2\\Lab2\\cs3220_2025f\\src\\environmentClass.py:38\u001b[39m, in \u001b[36mEnvironment.step\u001b[39m\u001b[34m(self)\u001b[39m\n\u001b[32m     35\u001b[39m \u001b[38;5;28;01mfor\u001b[39;00m agent \u001b[38;5;129;01min\u001b[39;00m \u001b[38;5;28mself\u001b[39m.agents:\n\u001b[32m     36\u001b[39m     \u001b[38;5;28;01mif\u001b[39;00m agent.alive:\n\u001b[32m     37\u001b[39m         \u001b[38;5;66;03m#print(self.percept(agent))\u001b[39;00m\n\u001b[32m---> \u001b[39m\u001b[32m38\u001b[39m         action=agent.program(\u001b[38;5;28;43mself\u001b[39;49m\u001b[43m.\u001b[49m\u001b[43mpercept\u001b[49m\u001b[43m(\u001b[49m\u001b[43magent\u001b[49m\u001b[43m)\u001b[49m)\n\u001b[32m     39\u001b[39m         \u001b[38;5;28mprint\u001b[39m(\u001b[33m\"\u001b[39m\u001b[33mThe Cat percepted \u001b[39m\u001b[38;5;132;01m{}\u001b[39;00m\u001b[33m.\u001b[39m\u001b[33m\"\u001b[39m.format(\u001b[38;5;28mself\u001b[39m.percept(agent)))\n\u001b[32m     40\u001b[39m         \u001b[38;5;28mprint\u001b[39m(\u001b[33m\"\u001b[39m\u001b[33mThe Cat decided to do \u001b[39m\u001b[38;5;132;01m{}\u001b[39;00m\u001b[33m.\u001b[39m\u001b[33m\"\u001b[39m.format(action))\n",
      "\u001b[36mFile \u001b[39m\u001b[32mc:\\Users\\conno_52qz545\\CS3220 Lab2\\Lab2\\cs3220_2025f\\src\\CrazyHouseEnvironment.py:14\u001b[39m, in \u001b[36mCrazyHouseEnvironment.percept\u001b[39m\u001b[34m(self, agent)\u001b[39m\n\u001b[32m     12\u001b[39m \u001b[38;5;28;01mdef\u001b[39;00m\u001b[38;5;250m \u001b[39m\u001b[34mpercept\u001b[39m(\u001b[38;5;28mself\u001b[39m, agent):\n\u001b[32m     13\u001b[39m   \u001b[38;5;66;03m#Returns the agent's location, and the location status (Dirty/Clean).\u001b[39;00m\n\u001b[32m---> \u001b[39m\u001b[32m14\u001b[39m   \u001b[38;5;28;01mreturn\u001b[39;00m agent.location, \u001b[38;5;28;43mself\u001b[39;49m\u001b[43m.\u001b[49m\u001b[43mstatus\u001b[49m[agent.location]\n",
      "\u001b[31mAttributeError\u001b[39m: 'CrazyHouseEnvironment' object has no attribute 'status'"
     ]
    }
   ],
   "source": [
    "House.run()\n"
   ]
  }
 ],
 "metadata": {
  "kernelspec": {
   "display_name": ".venv (3.13.7)",
   "language": "python",
   "name": "python3"
  },
  "language_info": {
   "codemirror_mode": {
    "name": "ipython",
    "version": 3
   },
   "file_extension": ".py",
   "mimetype": "text/x-python",
   "name": "python",
   "nbconvert_exporter": "python",
   "pygments_lexer": "ipython3",
   "version": "3.13.7"
  }
 },
 "nbformat": 4,
 "nbformat_minor": 5
}
