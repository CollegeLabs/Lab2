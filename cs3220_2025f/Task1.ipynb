{
 "cells": [
  {
   "cell_type": "code",
   "execution_count": 1,
   "id": "2a278617",
   "metadata": {},
   "outputs": [],
   "source": [
    "import random\n",
    "import collections\n",
    "from src.locations import *\n",
    "from src.thingClass import Thing\n",
    "from src.agentClass import Agent\n",
    "from src.agents import *\n",
    "from src.CrazyHouseEnvironment import CrazyHouseEnvironment"
   ]
  },
  {
   "cell_type": "code",
   "execution_count": 2,
   "id": "788d3322",
   "metadata": {},
   "outputs": [
    {
     "name": "stdout",
     "output_type": "stream",
     "text": [
      "<Thing>\n",
      "False\n",
      "I don't know how to show_state.\n",
      "None\n"
     ]
    }
   ],
   "source": [
    "Chetto=Thing()\n",
    "print(Chetto)\n",
    "print(Chetto.is_alive())\n",
    "print(Chetto.show_state())"
   ]
  },
  {
   "cell_type": "code",
   "execution_count": 3,
   "id": "3446af30",
   "metadata": {},
   "outputs": [],
   "source": [
    "def RandomAgentProgram(actions):\n",
    "   return lambda percept: random.choice(actions)"
   ]
  },
  {
   "cell_type": "code",
   "execution_count": 4,
   "id": "ae4f557c",
   "metadata": {},
   "outputs": [
    {
     "name": "stdout",
     "output_type": "stream",
     "text": [
      "Move_Left\n",
      "Fight\n",
      "Eat\n",
      "Drink\n",
      "Drink\n"
     ]
    }
   ],
   "source": [
    "actions = ['Move_Right', 'Move_Left', 'Eat', 'Drink', 'Fight']\n",
    "Chetto=RandomAgentProgram(actions)\n",
    "for i in range(5):\n",
    "    print(Chetto('1'))"
   ]
  },
  {
   "cell_type": "code",
   "execution_count": 5,
   "id": "07962bd6",
   "metadata": {},
   "outputs": [
    {
     "name": "stdout",
     "output_type": "stream",
     "text": [
      "state of the House: {'room1': 'Nothing', 'room2': 'Rat', 'room3': 'Nothing', 'room4': 'Rat', 'room5': 'Milk'}.\n"
     ]
    }
   ],
   "source": [
    "House = CrazyHouseEnvironment()\n",
    "\n",
    "print(\"state of the House: {}.\".format(House.status))"
   ]
  },
  {
   "cell_type": "code",
   "execution_count": 6,
   "id": "d0cb4a6f",
   "metadata": {},
   "outputs": [],
   "source": [
    "Cat=RandomCatAgent()"
   ]
  },
  {
   "cell_type": "code",
   "execution_count": 7,
   "id": "017a8fe3",
   "metadata": {},
   "outputs": [
    {
     "name": "stdout",
     "output_type": "stream",
     "text": [
      "Cat is starting in random location...\n",
      "Cat is located at room3.\n"
     ]
    }
   ],
   "source": [
    "House.add_thing(Cat)\n",
    "print(\"Cat is located at {}.\".format(Cat.location))"
   ]
  },
  {
   "cell_type": "code",
   "execution_count": 8,
   "id": "008cf0c9",
   "metadata": {},
   "outputs": [
    {
     "name": "stdout",
     "output_type": "stream",
     "text": [
      "step 1:\n",
      "The Cat percepted ('room3', 'Nothing').\n",
      "The Cat decided to do Move_Right.\n",
      "The Cat is in room room4.\n",
      "step 2:\n",
      "The Cat percepted ('room4', 'Rat').\n",
      "The Cat decided to do Fight.\n",
      "The Cat is in room room4.\n",
      "step 3:\n",
      "The Cat percepted ('room4', 'Rat').\n",
      "The Cat decided to do Move_Right.\n",
      "The Cat is in room room5.\n",
      "step 4:\n",
      "The Cat percepted ('room5', 'Milk').\n",
      "The Cat decided to do Move_Right.\n",
      "The Cat is in room room5.\n",
      "step 5:\n",
      "The Cat percepted ('room5', 'Milk').\n",
      "The Cat decided to do Move_Left.\n",
      "The Cat is in room room4.\n",
      "step 6:\n",
      "The Cat percepted ('room4', 'Rat').\n",
      "The Cat decided to do Move_Left.\n",
      "The Cat <Agent> is dead.\n",
      "The Cat is in room room3.\n",
      "We can't find a live agent\n"
     ]
    }
   ],
   "source": [
    "House.run()\n"
   ]
  }
 ],
 "metadata": {
  "kernelspec": {
   "display_name": ".venv (3.13.7)",
   "language": "python",
   "name": "python3"
  },
  "language_info": {
   "codemirror_mode": {
    "name": "ipython",
    "version": 3
   },
   "file_extension": ".py",
   "mimetype": "text/x-python",
   "name": "python",
   "nbconvert_exporter": "python",
   "pygments_lexer": "ipython3",
   "version": "3.13.7"
  }
 },
 "nbformat": 4,
 "nbformat_minor": 5
}
