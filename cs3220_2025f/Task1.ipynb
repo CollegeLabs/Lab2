{
 "cells": [
  {
   "cell_type": "code",
   "execution_count": 3,
   "id": "2a278617",
   "metadata": {},
   "outputs": [],
   "source": [
    "import random\n",
    "import collections\n",
    "from src.locations import *\n",
    "from src.thingClass import Thing\n",
    "from src.agentClass import Agent\n",
    "from src.CrazyHouseEnvironment import CrazyHouseEnvironment"
   ]
  },
  {
   "cell_type": "code",
   "execution_count": 4,
   "id": "788d3322",
   "metadata": {},
   "outputs": [
    {
     "name": "stdout",
     "output_type": "stream",
     "text": [
      "<Thing>\n",
      "False\n",
      "I don't know how to show_state.\n",
      "None\n"
     ]
    }
   ],
   "source": [
    "Chetto=Thing()\n",
    "print(Chetto)\n",
    "print(Chetto.is_alive())\n",
    "print(Chetto.show_state())"
   ]
  },
  {
   "cell_type": "code",
   "execution_count": 5,
   "id": "3446af30",
   "metadata": {},
   "outputs": [],
   "source": [
    "def RandomAgentProgram(actions):\n",
    "   return lambda percept: random.choice(actions)"
   ]
  },
  {
   "cell_type": "code",
   "execution_count": 6,
   "id": "ae4f557c",
   "metadata": {},
   "outputs": [
    {
     "name": "stdout",
     "output_type": "stream",
     "text": [
      "Fight\n",
      "Move_Left\n",
      "Move_Left\n",
      "Drink\n",
      "Eat\n"
     ]
    }
   ],
   "source": [
    "actionList = ['Move_Right', 'Move_Left', 'Eat', 'Drink', 'Fight']\n",
    "Cat=RandomAgentProgram(actionList)\n",
    "for i in range(5):\n",
    "    print(Cat('1'))"
   ]
  },
  {
   "cell_type": "code",
   "execution_count": 11,
   "id": "07962bd6",
   "metadata": {},
   "outputs": [
    {
     "name": "stdout",
     "output_type": "stream",
     "text": [
      "state of the House: {}.\n"
     ]
    }
   ],
   "source": [
    "House = CrazyHouseEnvironment()\n",
    "\n",
    "print(\"state of the House: {}.\".format(House.status))"
   ]
  }
 ],
 "metadata": {
  "kernelspec": {
   "display_name": ".venv (3.13.7)",
   "language": "python",
   "name": "python3"
  },
  "language_info": {
   "codemirror_mode": {
    "name": "ipython",
    "version": 3
   },
   "file_extension": ".py",
   "mimetype": "text/x-python",
   "name": "python",
   "nbconvert_exporter": "python",
   "pygments_lexer": "ipython3",
   "version": "3.13.7"
  }
 },
 "nbformat": 4,
 "nbformat_minor": 5
}
