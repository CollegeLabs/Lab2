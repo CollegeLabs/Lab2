{
 "cells": [
  {
   "cell_type": "code",
   "execution_count": 84,
   "id": "2a278617",
   "metadata": {},
   "outputs": [],
   "source": [
    "import random\n",
    "import collections\n",
    "from src.locations import *\n",
    "from src.thingClass import Thing\n",
    "from src.agentClass import Agent\n",
    "from src.agents import *\n",
    "from src.CrazyHouseEnvironment import CrazyHouseEnvironment"
   ]
  },
  {
   "cell_type": "code",
   "execution_count": 85,
   "id": "788d3322",
   "metadata": {},
   "outputs": [
    {
     "name": "stdout",
     "output_type": "stream",
     "text": [
      "<Thing>\n",
      "False\n",
      "I don't know how to show_state.\n",
      "None\n"
     ]
    }
   ],
   "source": [
    "Chetto=Thing()\n",
    "print(Chetto)\n",
    "print(Chetto.is_alive())\n",
    "print(Chetto.show_state())"
   ]
  },
  {
   "cell_type": "code",
   "execution_count": 86,
   "id": "3446af30",
   "metadata": {},
   "outputs": [],
   "source": [
    "def RandomAgentProgram(actions):\n",
    "   return lambda percept: random.choice(actions)"
   ]
  },
  {
   "cell_type": "code",
   "execution_count": 87,
   "id": "ae4f557c",
   "metadata": {},
   "outputs": [
    {
     "name": "stdout",
     "output_type": "stream",
     "text": [
      "Move_Right\n",
      "Drink\n",
      "Eat\n",
      "Move_Right\n",
      "Move_Left\n"
     ]
    }
   ],
   "source": [
    "actions = ['Move_Right', 'Move_Left', 'Eat', 'Drink', 'Fight']\n",
    "Chetto=RandomAgentProgram(actions)\n",
    "for i in range(5):\n",
    "    print(Chetto('1'))"
   ]
  },
  {
   "cell_type": "code",
   "execution_count": 88,
   "id": "07962bd6",
   "metadata": {},
   "outputs": [
    {
     "name": "stdout",
     "output_type": "stream",
     "text": [
      "state of the House: {(1, 0): 'Dog', (2, 0): 'Dog', (3, 0): 'Empty', (4, 0): 'Dog', (5, 0): 'Dog'}.\n"
     ]
    }
   ],
   "source": [
    "House = CrazyHouseEnvironment()\n",
    "\n",
    "print(\"state of the House: {}.\".format(House.status))"
   ]
  },
  {
   "cell_type": "code",
   "execution_count": 89,
   "id": "d0cb4a6f",
   "metadata": {},
   "outputs": [],
   "source": [
    "Cat=RandomCatAgent()"
   ]
  },
  {
   "cell_type": "code",
   "execution_count": 90,
   "id": "017a8fe3",
   "metadata": {},
   "outputs": [
    {
     "name": "stdout",
     "output_type": "stream",
     "text": [
      "Agent is starting in random location...\n",
      "Cat is located at (5, 0).\n"
     ]
    }
   ],
   "source": [
    "House.add_thing(Cat)\n",
    "print(\"Cat is located at {}.\".format(Cat.location))"
   ]
  },
  {
   "cell_type": "code",
   "execution_count": 91,
   "id": "da8b7fa3",
   "metadata": {},
   "outputs": [
    {
     "name": "stdout",
     "output_type": "stream",
     "text": [
      "State of the House: {(1, 0): 'Dog', (2, 0): 'Dog', (3, 0): 'Empty', (4, 0): 'Dog', (5, 0): 'Dog'}.\n",
      "Cat is located at (5, 0).\n"
     ]
    }
   ],
   "source": [
    "#House.step()\n",
    "\n",
    "print(\"State of the House: {}.\".format(House.status))\n",
    "print(\"Cat is located at {}.\".format(Cat.location))"
   ]
  },
  {
   "cell_type": "code",
   "execution_count": null,
   "id": "008cf0c9",
   "metadata": {},
   "outputs": [
    {
     "name": "stdout",
     "output_type": "stream",
     "text": [
      "step 1:\n",
      "Agent percepted ((5, 0), 'Dog').\n",
      "Agent decided to do Move_Left.\n",
      "step 2:\n",
      "Agent percepted ((4, 0), 'Dog').\n",
      "Agent decided to do Drink.\n",
      "step 3:\n",
      "Agent percepted ((4, 0), 'Dog').\n",
      "Agent decided to do Drink.\n",
      "step 4:\n",
      "Agent percepted ((4, 0), 'Dog').\n",
      "Agent decided to do Eat.\n",
      "step 5:\n",
      "Agent percepted ((4, 0), 'Dog').\n",
      "Agent decided to do Move_Right.\n",
      "step 6:\n",
      "Agent percepted ((5, 0), 'Dog').\n",
      "Agent decided to do Move_Left.\n",
      "step 7:\n",
      "Agent percepted ((4, 0), 'Dog').\n",
      "Agent decided to do Drink.\n",
      "step 8:\n",
      "Agent percepted ((4, 0), 'Dog').\n",
      "Agent decided to do Move_Left.\n",
      "step 9:\n",
      "Agent percepted ((3, 0), 'Empty').\n",
      "Agent decided to do Fight.\n",
      "step 10:\n",
      "Agent percepted ((3, 0), 'Empty').\n",
      "Agent decided to do Move_Left.\n",
      "Agent <Agent> is dead.\n",
      "Cat is located at (2, 0).\n"
     ]
    }
   ],
   "source": [
    "House.run()\n"
   ]
  }
 ],
 "metadata": {
  "kernelspec": {
   "display_name": ".venv (3.13.7)",
   "language": "python",
   "name": "python3"
  },
  "language_info": {
   "codemirror_mode": {
    "name": "ipython",
    "version": 3
   },
   "file_extension": ".py",
   "mimetype": "text/x-python",
   "name": "python",
   "nbconvert_exporter": "python",
   "pygments_lexer": "ipython3",
   "version": "3.13.7"
  }
 },
 "nbformat": 4,
 "nbformat_minor": 5
}
