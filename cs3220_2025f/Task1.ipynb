{
 "cells": [
  {
   "cell_type": "code",
   "execution_count": null,
   "id": "2a278617",
   "metadata": {},
   "outputs": [],
   "source": [
    "import random\n",
    "import collections\n",
    "from src.locations import *\n",
    "from src.thingClass import Thing\n",
    "from src.agentClass import Agent"
   ]
  },
  {
   "cell_type": "code",
   "execution_count": null,
   "id": "21a3f100",
   "metadata": {},
   "outputs": [],
   "source": [
    "Chetto=Thing()\n",
    "print(Chetto)\n",
    "print(Chetto.is_alive())\n",
    "print(Chetto.show_state())"
   ]
  },
  {
   "cell_type": "code",
   "execution_count": null,
   "id": "16874d65",
   "metadata": {},
   "outputs": [],
   "source": [
    "actionList = ['Move_Right', 'Move_Left', 'Eat', 'Drink', 'Fight']\n",
    "f=RandomAgentProgram(actionList)\n",
    "for i in range(5):\n",
    "    print(f('111'))"
   ]
  }
 ],
 "metadata": {
  "kernelspec": {
   "display_name": "Python 3",
   "language": "python",
   "name": "python3"
  },
  "language_info": {
   "codemirror_mode": {
    "name": "ipython",
    "version": 3
   },
   "file_extension": ".py",
   "mimetype": "text/x-python",
   "name": "python",
   "nbconvert_exporter": "python",
   "pygments_lexer": "ipython3",
   "version": "3.13.7"
  }
 },
 "nbformat": 4,
 "nbformat_minor": 5
}
