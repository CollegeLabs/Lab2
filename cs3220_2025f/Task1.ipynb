{
 "cells": [
  {
   "cell_type": "code",
   "execution_count": 60,
   "id": "2a278617",
   "metadata": {},
   "outputs": [],
   "source": [
    "import random\n",
    "import collections\n",
    "from src.locations import *\n",
    "from src.thingClass import Thing\n",
    "from src.agentClass import Agent\n",
    "from src.agents import *\n",
    "from src.CrazyHouseEnvironment import CrazyHouseEnvironment\n",
    "from src.Task3YourClasses import Milk, Mouse, Dog"
   ]
  },
  {
   "cell_type": "code",
   "execution_count": 61,
   "id": "788d3322",
   "metadata": {},
   "outputs": [
    {
     "name": "stdout",
     "output_type": "stream",
     "text": [
      "<Thing>\n",
      "False\n",
      "I don't know how to show_state.\n",
      "None\n"
     ]
    }
   ],
   "source": [
    "Chetto=Thing()\n",
    "print(Chetto)\n",
    "print(Chetto.is_alive())\n",
    "print(Chetto.show_state())"
   ]
  },
  {
   "cell_type": "code",
   "execution_count": 62,
   "id": "3446af30",
   "metadata": {},
   "outputs": [],
   "source": [
    "def RandomAgentProgram(actions):\n",
    "   return lambda percept: random.choice(actions)"
   ]
  },
  {
   "cell_type": "code",
   "execution_count": 63,
   "id": "ae4f557c",
   "metadata": {},
   "outputs": [
    {
     "name": "stdout",
     "output_type": "stream",
     "text": [
      "Drink\n",
      "Fight\n",
      "Drink\n",
      "Fight\n",
      "Drink\n"
     ]
    }
   ],
   "source": [
    "actions = ['Move_Right', 'Move_Left', 'Eat', 'Drink', 'Fight']\n",
    "Chetto=RandomAgentProgram(actions)\n",
    "for i in range(5):\n",
    "    print(Chetto('1'))"
   ]
  },
  {
   "cell_type": "code",
   "execution_count": 64,
   "id": "07962bd6",
   "metadata": {},
   "outputs": [],
   "source": [
    "House = CrazyHouseEnvironment()"
   ]
  },
  {
   "cell_type": "code",
   "execution_count": null,
   "id": "d0cb4a6f",
   "metadata": {},
   "outputs": [
    {
     "name": "stdout",
     "output_type": "stream",
     "text": [
      "Thing is starting in random location...\n",
      "Thing is starting in random location...\n",
      "Thing is starting in random location...\n"
     ]
    }
   ],
   "source": [
    "Cat=RandomCatAgent()\n",
    "\n",
    "Milk=Milk()\n",
    "Mouse=Mouse()\n",
    "Dog=Dog()\n",
    "\n",
    "House.add_thing(Milk)\n",
    "House.add_thing(Mouse)\n",
    "House.add_thing(Dog)\n",
    "\n",
    "while True:\n",
    "    if Dog.location == Mouse.location:\n",
    "        House.delete_thing(Mouse)\n",
    "        House.add_thing(Mouse)\n",
    "    if Dog.location != Mouse.location:\n",
    "        break\n",
    "\n",
    "if Milk.location == Mouse.location:\n",
    "    House.delete_thing(Milk)\n"
   ]
  },
  {
   "cell_type": "code",
   "execution_count": 66,
   "id": "017a8fe3",
   "metadata": {},
   "outputs": [
    {
     "name": "stdout",
     "output_type": "stream",
     "text": [
      "Welcome!\n",
      "Thing is starting in random location...\n",
      "Cat is located at room 2.\n"
     ]
    }
   ],
   "source": [
    "House.add_thing(Cat)\n",
    "print(\"Cat is located at {}.\".format(Cat.location))"
   ]
  },
  {
   "cell_type": "code",
   "execution_count": 67,
   "id": "008cf0c9",
   "metadata": {},
   "outputs": [
    {
     "name": "stdout",
     "output_type": "stream",
     "text": [
      "step 1:\n",
      "The Cat percepted ('room 2', [<Milk>, <Mouse>]).\n",
      "The Cat decided to do Eat.\n",
      "The Cat is in room 2.\n",
      "step 2:\n",
      "The Cat percepted ('room 2', [<Milk>]).\n",
      "The Cat decided to do Eat.\n",
      "The Cat is in room 2.\n",
      "step 3:\n",
      "The Cat percepted ('room 2', [<Milk>]).\n",
      "The Cat decided to do Move_Left.\n",
      "The Cat is in room 1.\n",
      "step 4:\n",
      "The Cat percepted ('room 1', []).\n",
      "The Cat decided to do Fight.\n",
      "The Cat is in room 1.\n",
      "step 5:\n",
      "The Cat percepted ('room 1', []).\n",
      "The Cat decided to do Eat.\n",
      "The Cat is in room 1.\n",
      "step 6:\n",
      "The Cat percepted ('room 1', []).\n",
      "The Cat decided to do Move_Left.\n",
      "The Cat is in room 1.\n",
      "step 7:\n",
      "The Cat percepted ('room 1', []).\n",
      "The Cat decided to do Eat.\n",
      "The Cat is in room 1.\n",
      "step 8:\n",
      "The Cat percepted ('room 1', []).\n",
      "The Cat decided to do Eat.\n",
      "The Cat is in room 1.\n",
      "step 9:\n",
      "The Cat percepted ('room 1', []).\n",
      "The Cat decided to do Eat.\n",
      "The Cat is in room 1.\n",
      "step 10:\n",
      "The Cat percepted ('room 1', []).\n",
      "The Cat decided to do Move_Left.\n",
      "The Cat is in room 1.\n",
      "step 11:\n",
      "The Cat percepted ('room 1', []).\n",
      "The Cat decided to do Eat.\n",
      "The Cat is in room 1.\n",
      "step 12:\n",
      "The Cat percepted ('room 1', []).\n",
      "The Cat decided to do Fight.\n",
      "The Cat is in room 1.\n",
      "step 13:\n",
      "The Cat percepted ('room 1', []).\n",
      "The Cat decided to do Drink.\n",
      "The Cat is in room 1.\n",
      "step 14:\n",
      "The Cat percepted ('room 1', []).\n",
      "The Cat decided to do Move_Left.\n",
      "The Cat is in room 1.\n",
      "step 15:\n",
      "The Cat percepted ('room 1', []).\n",
      "The Cat decided to do Eat.\n",
      "The Cat is in room 1.\n",
      "step 16:\n",
      "The Cat percepted ('room 1', []).\n",
      "The Cat decided to do Fight.\n",
      "The Cat <Agent> is dead.\n",
      "The Cat is in room 1.\n",
      "We can't find a live agent\n"
     ]
    }
   ],
   "source": [
    "House.run()\n"
   ]
  }
 ],
 "metadata": {
  "kernelspec": {
   "display_name": ".venv (3.13.7)",
   "language": "python",
   "name": "python3"
  },
  "language_info": {
   "codemirror_mode": {
    "name": "ipython",
    "version": 3
   },
   "file_extension": ".py",
   "mimetype": "text/x-python",
   "name": "python",
   "nbconvert_exporter": "python",
   "pygments_lexer": "ipython3",
   "version": "3.13.7"
  }
 },
 "nbformat": 4,
 "nbformat_minor": 5
}
