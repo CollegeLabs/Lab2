{
 "cells": [
  {
   "cell_type": "code",
   "execution_count": 33,
   "id": "2a278617",
   "metadata": {},
   "outputs": [],
   "source": [
    "import random\n",
    "import collections\n",
    "from src.locations import *\n",
    "from src.thingClass import Thing\n",
    "from src.agentClass import Agent\n",
    "from src.agents import *\n",
    "from src.CrazyHouseEnvironment import CrazyHouseEnvironment\n",
    "from src.Task3YourClasses import Milk, Mouse, Dog"
   ]
  },
  {
   "cell_type": "code",
   "execution_count": 34,
   "id": "788d3322",
   "metadata": {},
   "outputs": [
    {
     "name": "stdout",
     "output_type": "stream",
     "text": [
      "<Thing>\n",
      "False\n",
      "I don't know how to show_state.\n",
      "None\n"
     ]
    }
   ],
   "source": [
    "Chetto=Thing()\n",
    "print(Chetto)\n",
    "print(Chetto.is_alive())\n",
    "print(Chetto.show_state())"
   ]
  },
  {
   "cell_type": "code",
   "execution_count": 35,
   "id": "3446af30",
   "metadata": {},
   "outputs": [],
   "source": [
    "def RandomAgentProgram(actions):\n",
    "   return lambda percept: random.choice(actions)"
   ]
  },
  {
   "cell_type": "code",
   "execution_count": 36,
   "id": "ae4f557c",
   "metadata": {},
   "outputs": [
    {
     "name": "stdout",
     "output_type": "stream",
     "text": [
      "Move_Left\n",
      "Fight\n",
      "Move_Right\n",
      "Drink\n",
      "Fight\n"
     ]
    }
   ],
   "source": [
    "actions = ['Move_Right', 'Move_Left', 'Eat', 'Drink', 'Fight']\n",
    "Chetto=RandomAgentProgram(actions)\n",
    "for i in range(5):\n",
    "    print(Chetto('1'))"
   ]
  },
  {
   "cell_type": "code",
   "execution_count": 37,
   "id": "07962bd6",
   "metadata": {},
   "outputs": [],
   "source": [
    "House = CrazyHouseEnvironment()"
   ]
  },
  {
   "cell_type": "code",
   "execution_count": 38,
   "id": "d0cb4a6f",
   "metadata": {},
   "outputs": [
    {
     "name": "stdout",
     "output_type": "stream",
     "text": [
      "Thing is starting in random location...\n",
      "Thing is starting in random location...\n",
      "Thing is starting in random location...\n"
     ]
    }
   ],
   "source": [
    "Cat=RandomCatAgent()\n",
    "\n",
    "Milk=Milk()\n",
    "Mouse=Mouse()\n",
    "Dog=Dog()\n",
    "\n",
    "House.add_thing(Milk)\n",
    "House.add_thing(Mouse)\n",
    "House.add_thing(Dog)\n"
   ]
  },
  {
   "cell_type": "code",
   "execution_count": 39,
   "id": "017a8fe3",
   "metadata": {},
   "outputs": [
    {
     "name": "stdout",
     "output_type": "stream",
     "text": [
      "Welcome!\n",
      "Thing is starting in random location...\n",
      "Cat is located at room 1.\n"
     ]
    }
   ],
   "source": [
    "House.add_thing(Cat)\n",
    "print(\"Cat is located at {}.\".format(Cat.location))"
   ]
  },
  {
   "cell_type": "code",
   "execution_count": 40,
   "id": "008cf0c9",
   "metadata": {},
   "outputs": [
    {
     "name": "stdout",
     "output_type": "stream",
     "text": [
      "step 1:\n",
      "The Cat percepted ('room 1', [<Mouse>, <Dog>]).\n",
      "The Cat decided to do Drink.\n",
      "The Cat is in room 1.\n",
      "step 2:\n",
      "The Cat percepted ('room 1', [<Mouse>, <Dog>]).\n",
      "The Cat decided to do Move_Left.\n",
      "The Cat is in room 1.\n",
      "step 3:\n",
      "The Cat percepted ('room 1', [<Mouse>, <Dog>]).\n",
      "The Cat decided to do Drink.\n",
      "The Cat is in room 1.\n",
      "step 4:\n",
      "The Cat percepted ('room 1', [<Mouse>, <Dog>]).\n",
      "The Cat decided to do Move_Right.\n",
      "The Cat is in room 2.\n",
      "step 5:\n",
      "The Cat percepted ('room 2', []).\n",
      "The Cat decided to do Move_Right.\n",
      "The Cat <Agent> is dead.\n",
      "The Cat is in room 3.\n",
      "We can't find a live agent\n"
     ]
    }
   ],
   "source": [
    "House.run()\n"
   ]
  }
 ],
 "metadata": {
  "kernelspec": {
   "display_name": ".venv (3.13.7)",
   "language": "python",
   "name": "python3"
  },
  "language_info": {
   "codemirror_mode": {
    "name": "ipython",
    "version": 3
   },
   "file_extension": ".py",
   "mimetype": "text/x-python",
   "name": "python",
   "nbconvert_exporter": "python",
   "pygments_lexer": "ipython3",
   "version": "3.13.7"
  }
 },
 "nbformat": 4,
 "nbformat_minor": 5
}
